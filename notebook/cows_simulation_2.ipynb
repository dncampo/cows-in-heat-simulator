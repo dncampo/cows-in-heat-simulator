{
 "cells": [
  {
   "cell_type": "code",
   "execution_count": 2,
   "id": "74886327",
   "metadata": {},
   "outputs": [],
   "source": [
    "import numpy as np\n",
    "import matplotlib.pyplot as plt\n",
    "from ipywidgets import interact, IntSlider\n",
    "from matplotlib.animation import FuncAnimation\n",
    "from IPython.display import display\n"
   ]
  },
  {
   "cell_type": "code",
   "execution_count": 13,
   "id": "2524b38f",
   "metadata": {},
   "outputs": [],
   "source": [
    "# Simulation parameters\n",
    "num_steps = 200  # Number of time steps in the simulation\n",
    "field_size = (500, 300)  # Size of the field (width x height)\n"
   ]
  },
  {
   "cell_type": "code",
   "execution_count": 4,
   "id": "e828b64d",
   "metadata": {},
   "outputs": [],
   "source": [
    "class Cow:\n",
    "    def __init__(self, cow_id, in_heat):\n",
    "        self.cow_id = cow_id\n",
    "        self.in_heat = in_heat\n",
    "        self.position = np.array([np.random.uniform(0, field_size[0]),\n",
    "                                  np.random.uniform(0, field_size[1])])\n",
    "        self.positions = [self.position.copy()]\n",
    "        \n",
    "    def move(self):\n",
    "        # Movement parameters\n",
    "        if self.in_heat:\n",
    "            step_size = np.random.normal(loc=2, scale=0.5)\n",
    "        else:\n",
    "            step_size = np.random.normal(loc=1, scale=0.2)\n",
    "        # Random movement direction\n",
    "        angle = np.random.uniform(0, 2 * np.pi)\n",
    "        dx = step_size * np.cos(angle)\n",
    "        dy = step_size * np.sin(angle)\n",
    "        # Update position\n",
    "        self.position += np.array([dx, dy])\n",
    "        # Keep cows within field boundaries\n",
    "        self.position[0] = np.clip(self.position[0], 0, field_size[0])\n",
    "        self.position[1] = np.clip(self.position[1], 0, field_size[1])\n",
    "        self.positions.append(self.position.copy())\n"
   ]
  },
  {
   "cell_type": "code",
   "execution_count": 5,
   "id": "ec0d0dbf",
   "metadata": {},
   "outputs": [],
   "source": [
    "def generate_cows(num_cows):\n",
    "    cows = []\n",
    "    for cow_id in range(num_cows):\n",
    "        # Randomly assign heat status (e.g., 20% chance of being in heat)\n",
    "        in_heat = np.random.choice([True, False], p=[0.2, 0.8])\n",
    "        cow = Cow(cow_id, in_heat)\n",
    "        cows.append(cow)\n",
    "    return cows\n"
   ]
  },
  {
   "cell_type": "code",
   "execution_count": 6,
   "id": "b7c21a5f",
   "metadata": {},
   "outputs": [],
   "source": [
    "def run_simulation(cows):\n",
    "    for _ in range(num_steps):\n",
    "        for cow in cows:\n",
    "            cow.move()\n"
   ]
  },
  {
   "cell_type": "code",
   "execution_count": 7,
   "id": "efabac2f",
   "metadata": {},
   "outputs": [],
   "source": [
    "def animate(i, cows, scatters):\n",
    "    for idx, cow in enumerate(cows):\n",
    "        x, y = cow.positions[i]\n",
    "        scatters[idx].set_offsets([x, y])\n",
    "    return scatters\n"
   ]
  },
  {
   "cell_type": "code",
   "execution_count": 8,
   "id": "3362912f",
   "metadata": {},
   "outputs": [],
   "source": [
    "def simulate_and_visualize(num_cows):\n",
    "    plt.close('all')  # Close previous plots\n",
    "    cows = generate_cows(num_cows)\n",
    "    run_simulation(cows)\n",
    "    \n",
    "    # Prepare the plot\n",
    "    fig, ax = plt.subplots(figsize=(8, 8))\n",
    "    ax.set_xlim(0, field_size[0])\n",
    "    ax.set_ylim(0, field_size[1])\n",
    "    ax.set_title('Cow Movement Simulation')\n",
    "    ax.set_xlabel('Field Width')\n",
    "    ax.set_ylabel('Field Height')\n",
    "    \n",
    "    # Create scatter plot for each cow\n",
    "    scatters = []\n",
    "    for cow in cows:\n",
    "        color = 'red' if cow.in_heat else 'blue'\n",
    "        scatter = ax.scatter([], [], c=color, s=50, label='In Heat' if cow.in_heat else 'Not in Heat')\n",
    "        scatters.append(scatter)\n",
    "    \n",
    "    # Remove duplicate labels\n",
    "    handles, labels = plt.gca().get_legend_handles_labels()\n",
    "    by_label = dict(zip(labels, handles))\n",
    "    ax.legend(by_label.values(), by_label.keys())\n",
    "    \n",
    "    # Create animation\n",
    "    anim = FuncAnimation(fig, animate, frames=num_steps, fargs=(cows, scatters),\n",
    "                         interval=50, blit=True)\n",
    "    plt.show()\n"
   ]
  },
  {
   "cell_type": "code",
   "execution_count": 14,
   "id": "9bd619e0",
   "metadata": {},
   "outputs": [
    {
     "data": {
      "application/vnd.jupyter.widget-view+json": {
       "model_id": "08e3387738674575aa1127cce80bb50e",
       "version_major": 2,
       "version_minor": 0
      },
      "text/plain": [
       "interactive(children=(IntSlider(value=10, description='Number of Cows', max=500, min=1), Output()), _dom_class…"
      ]
     },
     "metadata": {},
     "output_type": "display_data"
    },
    {
     "data": {
      "text/plain": [
       "<function __main__.simulate_and_visualize(num_cows)>"
      ]
     },
     "execution_count": 14,
     "metadata": {},
     "output_type": "execute_result"
    }
   ],
   "source": [
    "interact(simulate_and_visualize, num_cows=IntSlider(min=1, max=500, step=1, value=10, description='Number of Cows'))\n"
   ]
  },
  {
   "cell_type": "code",
   "execution_count": null,
   "id": "02b8890f",
   "metadata": {},
   "outputs": [],
   "source": []
  }
 ],
 "metadata": {
  "kernelspec": {
   "display_name": "Python 3 (ipykernel)",
   "language": "python",
   "name": "python3"
  },
  "language_info": {
   "codemirror_mode": {
    "name": "ipython",
    "version": 3
   },
   "file_extension": ".py",
   "mimetype": "text/x-python",
   "name": "python",
   "nbconvert_exporter": "python",
   "pygments_lexer": "ipython3",
   "version": "3.12.6"
  },
  "toc": {
   "base_numbering": 1,
   "nav_menu": {},
   "number_sections": true,
   "sideBar": true,
   "skip_h1_title": false,
   "title_cell": "Table of Contents",
   "title_sidebar": "Contents",
   "toc_cell": false,
   "toc_position": {},
   "toc_section_display": true,
   "toc_window_display": false
  }
 },
 "nbformat": 4,
 "nbformat_minor": 5
}
